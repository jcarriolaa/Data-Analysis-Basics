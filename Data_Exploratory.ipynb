{
  "cells": [
    {
      "cell_type": "markdown",
      "metadata": {
        "id": "view-in-github",
        "colab_type": "text"
      },
      "source": [
        "<a href=\"https://colab.research.google.com/github/jcarriolaa/Data-Analysis-Basics/blob/main/Data_Exploratory.ipynb\" target=\"_parent\"><img src=\"https://colab.research.google.com/assets/colab-badge.svg\" alt=\"Open In Colab\"/></a>"
      ]
    },
    {
      "cell_type": "code",
      "execution_count": null,
      "id": "664e3e7c",
      "metadata": {
        "id": "664e3e7c"
      },
      "outputs": [],
      "source": [
        "%load_ext autoreload\n",
        "%autoreload 2"
      ]
    },
    {
      "cell_type": "code",
      "source": [
        "!pip install pandas"
      ],
      "metadata": {
        "id": "oATZxaCqin-a"
      },
      "id": "oATZxaCqin-a",
      "execution_count": null,
      "outputs": []
    },
    {
      "cell_type": "code",
      "execution_count": null,
      "id": "13070c38",
      "metadata": {
        "id": "13070c38"
      },
      "outputs": [],
      "source": [
        "import sys\n",
        "\n",
        "!{sys.executable} -m pip install -U pandas-profiling\n",
        "!jupyter nbextension enable --py widgetsnbextension"
      ]
    },
    {
      "cell_type": "code",
      "execution_count": null,
      "id": "a09a8e76",
      "metadata": {
        "id": "a09a8e76"
      },
      "outputs": [],
      "source": [
        "# Standard Library Imports\n",
        "from pathlib import Path\n",
        "\n",
        "import pandas_profiling \n",
        "\n",
        "# Installed packages\n",
        "import pandas as pd\n",
        "from ipywidgets import widgets\n",
        "\n",
        "# Our package\n",
        "from pandas_profiling import ProfileReport\n",
        "from pandas_profiling.utils.cache import cache_file"
      ]
    },
    {
      "cell_type": "code",
      "source": [
        "from google.colab import files\n",
        "uploaded = files.upload()"
      ],
      "metadata": {
        "id": "m6fwgr73lfUW"
      },
      "id": "m6fwgr73lfUW",
      "execution_count": null,
      "outputs": []
    },
    {
      "cell_type": "code",
      "source": [
        "import io\n",
        "df = pd.read_csv(io.BytesIO(uploaded['dataset.csv']))"
      ],
      "metadata": {
        "id": "03PvjQjwmPkg"
      },
      "id": "03PvjQjwmPkg",
      "execution_count": null,
      "outputs": []
    },
    {
      "cell_type": "code",
      "execution_count": null,
      "id": "68e32235",
      "metadata": {
        "id": "68e32235"
      },
      "outputs": [],
      "source": [
        "# Read the Titanic Dataset\n",
        "\n",
        "#cambaria 'train.csv' por el nombre de su Dataset\n",
        "#df = pd.read_csv('https://drive.google.com/file/d/1PPlfnweDxqljB9O_h-ViIwjdeRxhcLtz/view?usp=sharing')"
      ]
    },
    {
      "cell_type": "code",
      "execution_count": null,
      "id": "79e09563",
      "metadata": {
        "id": "79e09563"
      },
      "outputs": [],
      "source": [
        "df.head(5)"
      ]
    },
    {
      "cell_type": "code",
      "execution_count": null,
      "id": "4ecb8692",
      "metadata": {
        "id": "4ecb8692"
      },
      "outputs": [],
      "source": [
        "# Generate the Profiling Report\n",
        "profile = ProfileReport(df, title=\"Profiling Report\")"
      ]
    },
    {
      "cell_type": "code",
      "execution_count": null,
      "id": "38331a3d",
      "metadata": {
        "id": "38331a3d"
      },
      "outputs": [],
      "source": [
        "# Or use the HTML report in an iframe\n",
        "profile"
      ]
    },
    {
      "cell_type": "code",
      "source": [
        "profile.to_file(\"Report.html\")\n",
        "files.download('Report.html')"
      ],
      "metadata": {
        "id": "jaaZAZndqzzg"
      },
      "id": "jaaZAZndqzzg",
      "execution_count": null,
      "outputs": []
    }
  ],
  "metadata": {
    "kernelspec": {
      "display_name": "Python 3",
      "language": "python",
      "name": "python3"
    },
    "language_info": {
      "codemirror_mode": {
        "name": "ipython",
        "version": 3
      },
      "file_extension": ".py",
      "mimetype": "text/x-python",
      "name": "python",
      "nbconvert_exporter": "python",
      "pygments_lexer": "ipython3",
      "version": "3.8.8"
    },
    "colab": {
      "name": "Data Exploratory.ipynb",
      "provenance": [],
      "include_colab_link": true
    }
  },
  "nbformat": 4,
  "nbformat_minor": 5
}